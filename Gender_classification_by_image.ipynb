https://www.kaggle.com/code/saishvarya/gender-image-classification
